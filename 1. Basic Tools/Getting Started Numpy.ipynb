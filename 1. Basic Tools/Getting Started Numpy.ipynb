{
 "cells": [
  {
   "cell_type": "markdown",
   "metadata": {},
   "source": [
    "# NUMPY\n",
    "Visit the official website of __Numpy__ for more content in __[this link](http://www.numpy.org)__\n",
    "<img src=\"https://upload.wikimedia.org/wikipedia/commons/thumb/1/1a/NumPy_logo.svg/440px-NumPy_logo.svg.png\"\n",
    "alt=\"numpy\" title=\"Numpy\" height=\"400\" width=\"400\" />"
   ]
  },
  {
   "cell_type": "markdown",
   "metadata": {},
   "source": [
    "# Importing Numpy"
   ]
  },
  {
   "cell_type": "code",
   "execution_count": null,
   "metadata": {},
   "outputs": [],
   "source": [
    "import numpy as np"
   ]
  },
  {
   "cell_type": "markdown",
   "metadata": {},
   "source": [
    "# Importing and Exporting Data\n",
    "You can import and export data from txt and csv"
   ]
  },
  {
   "cell_type": "code",
   "execution_count": null,
   "metadata": {},
   "outputs": [],
   "source": [
    "# From a text file\n",
    "np.loadtxt('filex.txt')\n",
    "\n",
    "# From a CSV file\n",
    "np.genfromtxt('filex.csv', delimiter=',')\n",
    "\n",
    "# Writes to a text file\n",
    "np.savetxt('file.txt', arr, delimiter=' ')\n",
    "\n",
    "# Writes to a CSV file\n",
    "np.savetxt('file.csv', arr, delimiter=',')"
   ]
  },
  {
   "cell_type": "markdown",
   "metadata": {},
   "source": [
    "# Creating Arrays\n",
    "One of the most important tools of numpy is the manipulation of arrays (also matrices and tensors). It allows you work and manipulate data"
   ]
  },
  {
   "cell_type": "code",
   "execution_count": null,
   "metadata": {},
   "outputs": [],
   "source": [
    "# One dimensional array\n",
    "np.array([1, 2, 3])\n",
    "\n",
    "# Two dimensional array\n",
    "arr = np.array([(1, 2, 3), 4, 5, 6])\n",
    "\n",
    "# 1D array of length 3 all values 0\n",
    "arr = np.zeros(3)\n",
    "\n",
    "# 3X4 array with all values 1\n",
    "arr = np.ones((3, 4))\n",
    "\n",
    "# 5x5 array of 0 with 1 on diagonal (Identity matrix)\n",
    "np.eye(5)\n",
    "\n",
    "# Array of 6 evenly divided values from 0 to 100\n",
    "np.linspace(0, 100, 6)\n",
    "\n",
    "# Array of values from - to less than 10 with step 3 (eg [0, 3, 6, 9])\n",
    "np.arange(0, 10, 3)\n",
    "\n",
    "# 2x3 array with values 8\n",
    "np.full((2, 3), 8)\n",
    "\n",
    "# 4x5 array of random floats between 0-1\n",
    "np.random.rand(4, 5)\n",
    "\n",
    "# 6x7 array of random floats between 0-100\n",
    "np.random.rand(6, 7) * 100\n",
    "\n",
    "# 2x3 array with random ints between 0-4\n",
    "np.random.randint(5, size=(2, 3))"
   ]
  },
  {
   "cell_type": "markdown",
   "metadata": {},
   "source": [
    "# Inspecting Properties"
   ]
  },
  {
   "cell_type": "code",
   "execution_count": null,
   "metadata": {},
   "outputs": [],
   "source": [
    "# Returns number of elements in arr\n",
    "arr.size\n",
    "\n",
    "# Returns dimensions of arr (rows, colums)\n",
    "arr.shape\n",
    "\n",
    "# Returns type of elements in arr\n",
    "np.dtype\n",
    "\n",
    "# Convert arr elements to type dtype (int, float)\n",
    "arr.astype(dtype)\n",
    "\n",
    "# Convert arr to a Python list\n",
    "arr.tolist()\n",
    "\n",
    "# View documentation for np.eye\n",
    "np.info(np.eye)"
   ]
  },
  {
   "cell_type": "markdown",
   "metadata": {},
   "source": [
    "# Copying, sorting and reshaping"
   ]
  },
  {
   "cell_type": "code",
   "execution_count": null,
   "metadata": {},
   "outputs": [],
   "source": [
    "# Copies arr to new memory\n",
    "np.copy(arr)\n",
    "\n",
    "# Creates view of arr elements with type dtype\n",
    "arr.view(dtype)\n",
    "\n",
    "# Sorts arr\n",
    "arr.sort()\n",
    "\n",
    "# Sorts specific axis of arr\n",
    "arr.sort(axis=0)\n",
    "\n",
    "# Flattens 2D array two_d_arr to 1D\n",
    "two__arr.flatten()\n",
    "\n",
    "# Transpose arr (rows become columns and vice versa)\n",
    "arr.T\n",
    "\n",
    "# Reshapes arr to 3 rows, 4 columns without chaing data\n",
    "arr.reshape(3, 4)\n",
    "\n",
    "# Changes arr shape to 5x6 and fills new values with 0\n",
    "arr.resize((5, 6))"
   ]
  },
  {
   "cell_type": "markdown",
   "metadata": {},
   "source": [
    "# Adding and removing elements"
   ]
  },
  {
   "cell_type": "code",
   "execution_count": null,
   "metadata": {},
   "outputs": [],
   "source": [
    "# Appends values to end of arr\n",
    "np.append(arr.values)\n",
    "\n",
    "# Inserts values into arr before index 2\n",
    "np.insert(arr, 2, values)\n",
    "\n",
    "# Deletes row on index 3 of arr\n",
    "np.delete(arr, 3, axis=0)\n",
    "\n",
    "# Deletes colunm on index 4 of arr\n",
    "np.delete(arr, 4, axis=1)"
   ]
  },
  {
   "cell_type": "markdown",
   "metadata": {},
   "source": [
    "# Combining and spliting"
   ]
  },
  {
   "cell_type": "code",
   "execution_count": null,
   "metadata": {},
   "outputs": [],
   "source": [
    "# Adds arr2 as rows to the end of arr1\n",
    "np.concatenate((arr1, (arr2)), axis=0)\n",
    "\n",
    "# Adds arr2 as columns to end of arr1\n",
    "np.cancatenate((arr1, arr2), axis=1)\n",
    "\n",
    "# Splits arr into 3 sub-arrays\n",
    "np.split(arr, 3)\n",
    "\n",
    "# Splits arr horizontally on the 5th index\n",
    "np.hsplit(arr, 5)"
   ]
  },
  {
   "cell_type": "markdown",
   "metadata": {},
   "source": [
    "# Indexing, slicing and subsetting"
   ]
  },
  {
   "cell_type": "code",
   "execution_count": null,
   "metadata": {},
   "outputs": [],
   "source": [
    "# Returns the elemnt at index 5\n",
    "arr[5]\n",
    "\n",
    "# Returns the 2D array element on index [2][5]\n",
    "arr[2, 5]\n",
    "\n",
    "# Assigns array element on index 1 the value 4\n",
    "arr[1]=4\n",
    "\n",
    "# Assings array element on index [1][3] the value 10\n",
    "arr[1, 3]=10\n",
    "\n",
    "# Returns the elements at indices 0, 1, 2 (On a 2D array returns rows 0, 1, 2)\n",
    "arr[0:3]\n",
    "\n",
    "# Returns the elements on rows 0, 1, 2 at column 4\n",
    "arr[0:3, 4]\n",
    "\n",
    "# Returns the elements at indices 0, 1 (on a 2D array: returns rows 0, 1)\n",
    "arr[:2]\n",
    "\n",
    "# Returns the elements at index 1 on all rows\n",
    "arr[:, 1]\n",
    "\n",
    "# Returns an array with boolean values\n",
    "arr<5\n",
    "\n",
    "# Return an array with boolean values\n",
    "(arr<3) & (arr2>5)\n",
    "\n",
    "# Inverts a boolean array\n",
    "-arr\n",
    "\n",
    "# Returns array elements smaller than 5\n",
    "arr[arr<5]"
   ]
  },
  {
   "cell_type": "markdown",
   "metadata": {},
   "source": [
    "# Scalar math"
   ]
  },
  {
   "cell_type": "code",
   "execution_count": null,
   "metadata": {},
   "outputs": [],
   "source": [
    "# Add 1 to each array element\n",
    "np.add(arr, 1)\n",
    "\n",
    "# Subtract 2 from each array element\n",
    "np.subtract(arr, 2)\n",
    "\n",
    "# Multiply each array element by 3\n",
    "np.multiply(arr, 3)\n",
    "\n",
    "# Divide each array element by 4 (return np.nan for division by zero)\n",
    "np.divide(arr, 4)\n",
    "\n",
    "# Raise each array element to the 5th power\n",
    "np.power(arr, 5)"
   ]
  },
  {
   "cell_type": "markdown",
   "metadata": {},
   "source": [
    "# Vector Math"
   ]
  },
  {
   "cell_type": "code",
   "execution_count": null,
   "metadata": {},
   "outputs": [],
   "source": [
    "# elementwise add arr2 to arr1\n",
    "np.add(arr1, arr2)\n",
    "\n",
    "# elementwise subtract arr2 from arr1\n",
    "np.subtract(arr1, arr2)\n",
    "\n",
    "# Elementwise multiply arr1 by arr2\n",
    "np.multiply(arr1, arr2)\n",
    "\n",
    "# Elementwise divide arr1 by arr2\n",
    "np.divide(arr1, arr2)\n",
    "\n",
    "# Elementwise raise arr1 raised to the power of arr2\n",
    "np.power(arr1, arr2)\n",
    "\n",
    "# Return True if the arrays have the same elements and shape\n",
    "np.array_equal(arr1, arr2)\n",
    "\n",
    "# Square root of each element in the arry\n",
    "np.sqrt(arr)\n",
    "\n",
    "# Sine of each element in the array\n",
    "np.sin(arr)\n",
    "\n",
    "# Natural log of each element in the array\n",
    "np.log(arr)\n",
    "\n",
    "# Absolute value of each element in the array\n",
    "np.abs(arr)\n",
    "\n",
    "# Rounds up to the nearest int\n",
    "np.ceil(arr)\n",
    "\n",
    "# Rounds down to the nearest int\n",
    "np.floor(arr)\n",
    "\n",
    "# Rounds to the nearest int\n",
    "np.round(arr)"
   ]
  },
  {
   "cell_type": "markdown",
   "metadata": {},
   "source": [
    "# Statistics"
   ]
  },
  {
   "cell_type": "code",
   "execution_count": null,
   "metadata": {},
   "outputs": [],
   "source": [
    "# Returns mean along specific axis\n",
    "np.mean(arr, axis=0)\n",
    "\n",
    "# Returns sum of arr\n",
    "arr.sum()\n",
    "\n",
    "# Return minimum value of arr\n",
    "arr.min()\n",
    "\n",
    "# Return maximum value of specific axis\n",
    "arr.max(axis=0)\n",
    "\n",
    "# Returns the variance of array\n",
    "np.var(arr)\n",
    "\n",
    "# Returns the standar deviation of specific axis\n",
    "np.std(arr, axis=1)\n",
    "\n",
    "# Returns correlation coefficient of array\n",
    "arr.corrcoef()"
   ]
  }
 ],
 "metadata": {
  "kernelspec": {
   "display_name": "Python 3",
   "language": "python",
   "name": "python3"
  },
  "language_info": {
   "codemirror_mode": {
    "name": "ipython",
    "version": 3
   },
   "file_extension": ".py",
   "mimetype": "text/x-python",
   "name": "python",
   "nbconvert_exporter": "python",
   "pygments_lexer": "ipython3",
   "version": "3.6.8"
  }
 },
 "nbformat": 4,
 "nbformat_minor": 2
}
