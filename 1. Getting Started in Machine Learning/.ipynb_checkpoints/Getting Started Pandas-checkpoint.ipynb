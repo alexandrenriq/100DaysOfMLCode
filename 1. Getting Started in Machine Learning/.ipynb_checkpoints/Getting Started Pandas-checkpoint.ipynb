{
 "cells": [
  {
   "cell_type": "code",
   "execution_count": 1,
   "metadata": {},
   "outputs": [],
   "source": [
    "import pandas as pd\n",
    "import numpy as np"
   ]
  },
  {
   "cell_type": "code",
   "execution_count": 2,
   "metadata": {},
   "outputs": [
    {
     "ename": "NameError",
     "evalue": "name 'filename' is not defined",
     "output_type": "error",
     "traceback": [
      "\u001b[0;31m---------------------------------------------------------------------------\u001b[0m",
      "\u001b[0;31mNameError\u001b[0m                                 Traceback (most recent call last)",
      "\u001b[0;32m<ipython-input-2-96d2d9016fda>\u001b[0m in \u001b[0;36m<module>\u001b[0;34m()\u001b[0m\n\u001b[1;32m      2\u001b[0m \u001b[0;34m\u001b[0m\u001b[0m\n\u001b[1;32m      3\u001b[0m \u001b[0;31m# From CSV file\u001b[0m\u001b[0;34m\u001b[0m\u001b[0;34m\u001b[0m\u001b[0m\n\u001b[0;32m----> 4\u001b[0;31m \u001b[0mpd\u001b[0m\u001b[0;34m.\u001b[0m\u001b[0mread_csv\u001b[0m\u001b[0;34m(\u001b[0m\u001b[0mfilename\u001b[0m\u001b[0;34m)\u001b[0m\u001b[0;34m\u001b[0m\u001b[0m\n\u001b[0m\u001b[1;32m      5\u001b[0m \u001b[0;34m\u001b[0m\u001b[0m\n\u001b[1;32m      6\u001b[0m \u001b[0;31m# From a delimited text file (like TSV)\u001b[0m\u001b[0;34m\u001b[0m\u001b[0;34m\u001b[0m\u001b[0m\n",
      "\u001b[0;31mNameError\u001b[0m: name 'filename' is not defined"
     ]
    }
   ],
   "source": [
    "# IMPORTING DATA\n",
    "\n",
    "# From CSV file\n",
    "pd.read_csv(filename)\n",
    "\n",
    "# From a delimited text file (like TSV)\n",
    "pd.read_table(filename)\n",
    "\n",
    "# From an Excel file\n",
    "pd.read_excel(filename)\n",
    "\n",
    "# Read from a SQL table/database\n",
    "pd.read_sql(query, connection_object)\n",
    "\n",
    "# Read from a JSON formatted string, URL or file\n",
    "pd.read_json(json_string)\n",
    "\n",
    "# Parses an html URL, string or file and extracts tables to a list of dataframes\n",
    "pd.read_html(url)\n",
    "\n",
    "# Takes the contents of your clipboard and passes it to read_table()\n",
    "pd.read_clipboard()\n",
    "\n",
    "# From a dict, keys for columns names, values for data as lists\n",
    "pd.DataFrame(var_dict)"
   ]
  },
  {
   "cell_type": "code",
   "execution_count": 1,
   "metadata": {},
   "outputs": [
    {
     "ename": "NameError",
     "evalue": "name 'pd' is not defined",
     "output_type": "error",
     "traceback": [
      "\u001b[0;31m---------------------------------------------------------------------------\u001b[0m",
      "\u001b[0;31mNameError\u001b[0m                                 Traceback (most recent call last)",
      "\u001b[0;32m<ipython-input-1-1398d964fd0f>\u001b[0m in \u001b[0;36m<module>\u001b[0;34m()\u001b[0m\n\u001b[1;32m      2\u001b[0m \u001b[0;34m\u001b[0m\u001b[0m\n\u001b[1;32m      3\u001b[0m \u001b[0;31m# Write to a CSV file\u001b[0m\u001b[0;34m\u001b[0m\u001b[0;34m\u001b[0m\u001b[0m\n\u001b[0;32m----> 4\u001b[0;31m \u001b[0mpd\u001b[0m\u001b[0;34m.\u001b[0m\u001b[0mto_csv\u001b[0m\u001b[0;34m(\u001b[0m\u001b[0mfilename\u001b[0m\u001b[0;34m)\u001b[0m\u001b[0;34m\u001b[0m\u001b[0m\n\u001b[0m\u001b[1;32m      5\u001b[0m \u001b[0;34m\u001b[0m\u001b[0m\n\u001b[1;32m      6\u001b[0m \u001b[0;31m# Write to an Excel file\u001b[0m\u001b[0;34m\u001b[0m\u001b[0;34m\u001b[0m\u001b[0m\n",
      "\u001b[0;31mNameError\u001b[0m: name 'pd' is not defined"
     ]
    }
   ],
   "source": [
    "# EXPORTING DATA\n",
    "\n",
    "# Write to a CSV file\n",
    "df.to_csv(filename)\n",
    "\n",
    "# Write to an Excel file\n",
    "df.to_excel(filename)\n",
    "\n",
    "# Write to a SQL table\n",
    "df.to_sql(table_name, connection_object)\n",
    "\n",
    "# Write a file in JSON format\n",
    "df.to_json(filename)"
   ]
  },
  {
   "cell_type": "code",
   "execution_count": 2,
   "metadata": {},
   "outputs": [
    {
     "ename": "NameError",
     "evalue": "name 'pd' is not defined",
     "output_type": "error",
     "traceback": [
      "\u001b[0;31m---------------------------------------------------------------------------\u001b[0m",
      "\u001b[0;31mNameError\u001b[0m                                 Traceback (most recent call last)",
      "\u001b[0;32m<ipython-input-2-b1777c4679ec>\u001b[0m in \u001b[0;36m<module>\u001b[0;34m()\u001b[0m\n\u001b[1;32m      3\u001b[0m \u001b[0;34m\u001b[0m\u001b[0m\n\u001b[1;32m      4\u001b[0m \u001b[0;31m# 5 Columns and 20 rows of random floats\u001b[0m\u001b[0;34m\u001b[0m\u001b[0;34m\u001b[0m\u001b[0m\n\u001b[0;32m----> 5\u001b[0;31m \u001b[0mpd\u001b[0m\u001b[0;34m.\u001b[0m\u001b[0mDataFrame\u001b[0m\u001b[0;34m(\u001b[0m\u001b[0mnp\u001b[0m\u001b[0;34m.\u001b[0m\u001b[0mrandom\u001b[0m\u001b[0;34m.\u001b[0m\u001b[0mrand\u001b[0m\u001b[0;34m(\u001b[0m\u001b[0;36m20\u001b[0m\u001b[0;34m,\u001b[0m \u001b[0;36m5\u001b[0m\u001b[0;34m)\u001b[0m\u001b[0;34m)\u001b[0m\u001b[0;34m\u001b[0m\u001b[0m\n\u001b[0m\u001b[1;32m      6\u001b[0m \u001b[0;34m\u001b[0m\u001b[0m\n\u001b[1;32m      7\u001b[0m \u001b[0;31m# Create a series from an iterable 'my_list'\u001b[0m\u001b[0;34m\u001b[0m\u001b[0;34m\u001b[0m\u001b[0m\n",
      "\u001b[0;31mNameError\u001b[0m: name 'pd' is not defined"
     ]
    }
   ],
   "source": [
    "# CREATE TEST OBJECTS\n",
    "# Useful for testing code segments\n",
    "\n",
    "# 5 Columns and 20 rows of random floats\n",
    "pd.DataFrame(np.random.rand(20, 5))\n",
    "\n",
    "# Create a series from an iterable 'my_list'\n",
    "pd.Series(my_list)\n",
    "\n",
    "# Add a date index\n",
    "df.index = pd.date_range('1900/1/30', periods=df.shape[0])"
   ]
  },
  {
   "cell_type": "code",
   "execution_count": 3,
   "metadata": {},
   "outputs": [
    {
     "ename": "NameError",
     "evalue": "name 'df' is not defined",
     "output_type": "error",
     "traceback": [
      "\u001b[0;31m---------------------------------------------------------------------------\u001b[0m",
      "\u001b[0;31mNameError\u001b[0m                                 Traceback (most recent call last)",
      "\u001b[0;32m<ipython-input-3-f1cac4529009>\u001b[0m in \u001b[0;36m<module>\u001b[0;34m()\u001b[0m\n\u001b[1;32m      2\u001b[0m \u001b[0;34m\u001b[0m\u001b[0m\n\u001b[1;32m      3\u001b[0m \u001b[0;31m# First n rowa of the DataFrame\u001b[0m\u001b[0;34m\u001b[0m\u001b[0;34m\u001b[0m\u001b[0m\n\u001b[0;32m----> 4\u001b[0;31m \u001b[0mdf\u001b[0m\u001b[0;34m.\u001b[0m\u001b[0mhead\u001b[0m\u001b[0;34m(\u001b[0m\u001b[0mn\u001b[0m\u001b[0;34m)\u001b[0m\u001b[0;34m\u001b[0m\u001b[0m\n\u001b[0m\u001b[1;32m      5\u001b[0m \u001b[0;34m\u001b[0m\u001b[0m\n\u001b[1;32m      6\u001b[0m \u001b[0;31m# Last n rows of the DataFrame\u001b[0m\u001b[0;34m\u001b[0m\u001b[0;34m\u001b[0m\u001b[0m\n",
      "\u001b[0;31mNameError\u001b[0m: name 'df' is not defined"
     ]
    }
   ],
   "source": [
    "# VIEWING/INSPACTING DATA\n",
    "\n",
    "# First n rowa of the DataFrame\n",
    "df.head(n)\n",
    "\n",
    "# Last n rows of the DataFrame\n",
    "df.tail(n)\n",
    "\n",
    "# Number of rows and columns\n",
    "df.shape()\n",
    "\n",
    "# Index, Datatype and Memory information\n",
    "df.info()\n",
    "\n",
    "# Summary statistics for numerical columns\n",
    "df.describe()\n",
    "\n",
    "# View unique values and counts\n",
    "s.value_count(dropna=False)\n",
    "\n",
    "# Unique values and counts for all columns\n",
    "df.apply(pd.Series.value_counts)"
   ]
  },
  {
   "cell_type": "code",
   "execution_count": 4,
   "metadata": {},
   "outputs": [
    {
     "ename": "NameError",
     "evalue": "name 'df' is not defined",
     "output_type": "error",
     "traceback": [
      "\u001b[0;31m---------------------------------------------------------------------------\u001b[0m",
      "\u001b[0;31mNameError\u001b[0m                                 Traceback (most recent call last)",
      "\u001b[0;32m<ipython-input-4-7dafbcb25c21>\u001b[0m in \u001b[0;36m<module>\u001b[0;34m()\u001b[0m\n\u001b[1;32m      2\u001b[0m \u001b[0;34m\u001b[0m\u001b[0m\n\u001b[1;32m      3\u001b[0m \u001b[0;31m# Returns columns with label col as Series\u001b[0m\u001b[0;34m\u001b[0m\u001b[0;34m\u001b[0m\u001b[0m\n\u001b[0;32m----> 4\u001b[0;31m \u001b[0mdf\u001b[0m\u001b[0;34m[\u001b[0m\u001b[0mcol\u001b[0m\u001b[0;34m]\u001b[0m\u001b[0;34m\u001b[0m\u001b[0m\n\u001b[0m\u001b[1;32m      5\u001b[0m \u001b[0;34m\u001b[0m\u001b[0m\n\u001b[1;32m      6\u001b[0m \u001b[0;31m# Returns columns as a new DataFrame\u001b[0m\u001b[0;34m\u001b[0m\u001b[0;34m\u001b[0m\u001b[0m\n",
      "\u001b[0;31mNameError\u001b[0m: name 'df' is not defined"
     ]
    }
   ],
   "source": [
    "# SELECTION\n",
    "\n",
    "# Returns columns with label col as Series\n",
    "df[col]\n",
    "\n",
    "# Returns columns as a new DataFrame\n",
    "df[[col1, col2]]\n",
    "\n",
    "# Selection by Position\n",
    "s.iloc[0]\n",
    "\n",
    "# Selection by index\n",
    "s.loc['index_one']\n",
    "\n",
    "# First row\n",
    "df.iloc[0, :]\n",
    "\n",
    "# First element of first column\n",
    "df.iloc[0, 0]"
   ]
  },
  {
   "cell_type": "code",
   "execution_count": 5,
   "metadata": {},
   "outputs": [
    {
     "ename": "NameError",
     "evalue": "name 'df' is not defined",
     "output_type": "error",
     "traceback": [
      "\u001b[0;31m---------------------------------------------------------------------------\u001b[0m",
      "\u001b[0;31mNameError\u001b[0m                                 Traceback (most recent call last)",
      "\u001b[0;32m<ipython-input-5-7ea6d33d48a5>\u001b[0m in \u001b[0;36m<module>\u001b[0;34m()\u001b[0m\n\u001b[1;32m      2\u001b[0m \u001b[0;34m\u001b[0m\u001b[0m\n\u001b[1;32m      3\u001b[0m \u001b[0;31m# Rename columns\u001b[0m\u001b[0;34m\u001b[0m\u001b[0;34m\u001b[0m\u001b[0m\n\u001b[0;32m----> 4\u001b[0;31m \u001b[0mdf\u001b[0m\u001b[0;34m.\u001b[0m\u001b[0mcolumns\u001b[0m \u001b[0;34m=\u001b[0m \u001b[0;34m[\u001b[0m\u001b[0;34m'a'\u001b[0m\u001b[0;34m,\u001b[0m \u001b[0;34m'b'\u001b[0m\u001b[0;34m,\u001b[0m \u001b[0;34m'c'\u001b[0m\u001b[0;34m]\u001b[0m\u001b[0;34m\u001b[0m\u001b[0m\n\u001b[0m\u001b[1;32m      5\u001b[0m \u001b[0;34m\u001b[0m\u001b[0m\n\u001b[1;32m      6\u001b[0m \u001b[0;31m# Checks for null Values, Returns Boolean Array\u001b[0m\u001b[0;34m\u001b[0m\u001b[0;34m\u001b[0m\u001b[0m\n",
      "\u001b[0;31mNameError\u001b[0m: name 'df' is not defined"
     ]
    }
   ],
   "source": [
    "# DATA CLEANING\n",
    "\n",
    "# Rename columns\n",
    "df.columns = ['a', 'b', 'c']\n",
    "\n",
    "# Checks for null Values, Returns Boolean Array\n",
    "pd.isnull()\n",
    "\n",
    "# Opposite of pd.isnull()\n",
    "pd.notnull()\n",
    "\n",
    "# Drop all columns that contain null values\n",
    "df.dropna(axis=1)\n",
    "\n",
    "# Drop all rows have less than n non null values\n",
    "df.dropna(axis=1, thresh=n)\n",
    "\n",
    "# Replace all null values with x\n",
    "df.fillna(x)\n",
    "\n",
    "# Replace all null values with the mean*mean can be replace with almost any function from the statistics section)\n",
    "s.fillna(s.mean())\n",
    "\n",
    "# Convert the datatype of  the series to float\n",
    "s.astype(float)\n",
    "\n",
    "# Replace all values equal to 1 with 'one'\n",
    "s.replace(1, 'one')\n",
    "\n",
    "# Replace all 1 with 'one' and 3 with 'three'\n",
    "s.replace([1, 3], ['one', 'three'])\n",
    "\n",
    "# Mass renaming of columns\n",
    "df.rename(columns=lambda x: x + 1)\n",
    "\n",
    "# Selective renaming\n",
    "df.rename(columns={'old_name': 'new_name'})\n",
    "\n",
    "# Change the index\n",
    "df.set_index('column_one')\n",
    "\n",
    "# Mass renaming of index\n",
    "df.rename(index=lambda x: x + 1)"
   ]
  },
  {
   "cell_type": "code",
   "execution_count": 6,
   "metadata": {},
   "outputs": [
    {
     "ename": "NameError",
     "evalue": "name 'df' is not defined",
     "output_type": "error",
     "traceback": [
      "\u001b[0;31m---------------------------------------------------------------------------\u001b[0m",
      "\u001b[0;31mNameError\u001b[0m                                 Traceback (most recent call last)",
      "\u001b[0;32m<ipython-input-6-a7355ad74025>\u001b[0m in \u001b[0;36m<module>\u001b[0;34m()\u001b[0m\n\u001b[1;32m      2\u001b[0m \u001b[0;34m\u001b[0m\u001b[0m\n\u001b[1;32m      3\u001b[0m \u001b[0;31m# Rows where the column col is great than 0.5\u001b[0m\u001b[0;34m\u001b[0m\u001b[0;34m\u001b[0m\u001b[0m\n\u001b[0;32m----> 4\u001b[0;31m \u001b[0mdf\u001b[0m\u001b[0;34m[\u001b[0m\u001b[0mdf\u001b[0m\u001b[0;34m[\u001b[0m\u001b[0mcol\u001b[0m\u001b[0;34m]\u001b[0m \u001b[0;34m>\u001b[0m \u001b[0;36m0.5\u001b[0m\u001b[0;34m]\u001b[0m\u001b[0;34m\u001b[0m\u001b[0m\n\u001b[0m\u001b[1;32m      5\u001b[0m \u001b[0;34m\u001b[0m\u001b[0m\n\u001b[1;32m      6\u001b[0m \u001b[0;31m# Rows where 0.7 > col > 0.5\u001b[0m\u001b[0;34m\u001b[0m\u001b[0;34m\u001b[0m\u001b[0m\n",
      "\u001b[0;31mNameError\u001b[0m: name 'df' is not defined"
     ]
    }
   ],
   "source": [
    "# FILTER, SORT AND GROUPBY\n",
    "\n",
    "# Rows where the column col is great than 0.5\n",
    "df[df[col] > 0.5]\n",
    "\n",
    "# Rows where 0.7 > col > 0.5\n",
    "df[(df[col] > 0.5) & (df[col] < 0.7)]\n",
    "\n",
    "# Sort values by col1 in ascending order\n",
    "df.sort_values(col1)\n",
    "\n",
    "# Sort values by col2 in descending order\n",
    "df.sort_values(col2, ascending=False)\n",
    "\n",
    "# Sort values by col1 in ascending order then col2 in descending order\n",
    "df.sort_values([col1, col2], ascending=[True, False])\n",
    "\n",
    "# Returns a groupby object for values from one column\n",
    "df.groupby(col)\n",
    "\n",
    "# Returns groupby object for values from multiple columns\n",
    "df.groupby([col1, col2])\n",
    "\n",
    "# Returns the mean of the values in col2, grouped by the values in col1 (mean can be replaced with almost any function from the statistics section)\n",
    "df.groupby(col1)[col2]\n",
    "\n",
    "# Create a pivot table that groups by col1 and calculates the mean of col2 and col3\n",
    "df.pivot_table(index=col1, values=[col2, col3], aggfunc=mean)\n",
    "\n",
    "# Find the average across all columns for every unique col1 group\n",
    "df.groupby(col1).agg(np.mean)\n",
    "\n",
    "# Apply the function np.max() acrosss each row\n",
    "nf.apply(np.max, axis=1)"
   ]
  },
  {
   "cell_type": "code",
   "execution_count": 7,
   "metadata": {},
   "outputs": [
    {
     "ename": "NameError",
     "evalue": "name 'df1' is not defined",
     "output_type": "error",
     "traceback": [
      "\u001b[0;31m---------------------------------------------------------------------------\u001b[0m",
      "\u001b[0;31mNameError\u001b[0m                                 Traceback (most recent call last)",
      "\u001b[0;32m<ipython-input-7-64b1c1407024>\u001b[0m in \u001b[0;36m<module>\u001b[0;34m()\u001b[0m\n\u001b[1;32m      2\u001b[0m \u001b[0;34m\u001b[0m\u001b[0m\n\u001b[1;32m      3\u001b[0m \u001b[0;31m# Add the rows in df1 to the end of df2 (columns should be identical)\u001b[0m\u001b[0;34m\u001b[0m\u001b[0;34m\u001b[0m\u001b[0m\n\u001b[0;32m----> 4\u001b[0;31m \u001b[0mdf1\u001b[0m\u001b[0;34m.\u001b[0m\u001b[0mappend\u001b[0m\u001b[0;34m(\u001b[0m\u001b[0mdf2\u001b[0m\u001b[0;34m)\u001b[0m\u001b[0;34m\u001b[0m\u001b[0m\n\u001b[0m\u001b[1;32m      5\u001b[0m \u001b[0;34m\u001b[0m\u001b[0m\n\u001b[1;32m      6\u001b[0m \u001b[0;31m# Add the columns in df1 to the end of df2 (rows should be identical)\u001b[0m\u001b[0;34m\u001b[0m\u001b[0;34m\u001b[0m\u001b[0m\n",
      "\u001b[0;31mNameError\u001b[0m: name 'df1' is not defined"
     ]
    }
   ],
   "source": [
    "# JOIN/COMBINE\n",
    "\n",
    "# Add the rows in df1 to the end of df2 (columns should be identical)\n",
    "df1.append(df2)\n",
    "\n",
    "# Add the columns in df1 to the end of df2 (rows should be identical)\n",
    "pd.concat([df1, df2], axis=1)\n",
    "\n",
    "# SQL-style join the columns in df1 with the columns on df2 where the rows for col have identical values. How can be one of 'left', 'right', 'outer', 'inner'\n",
    "df1.join(df2, on=col1, how='inner')"
   ]
  },
  {
   "cell_type": "code",
   "execution_count": 8,
   "metadata": {},
   "outputs": [
    {
     "ename": "NameError",
     "evalue": "name 'df' is not defined",
     "output_type": "error",
     "traceback": [
      "\u001b[0;31m---------------------------------------------------------------------------\u001b[0m",
      "\u001b[0;31mNameError\u001b[0m                                 Traceback (most recent call last)",
      "\u001b[0;32m<ipython-input-8-88849ee5ee55>\u001b[0m in \u001b[0;36m<module>\u001b[0;34m()\u001b[0m\n\u001b[1;32m      3\u001b[0m \u001b[0;34m\u001b[0m\u001b[0m\n\u001b[1;32m      4\u001b[0m \u001b[0;31m# Summary statistics for numerical columns\u001b[0m\u001b[0;34m\u001b[0m\u001b[0;34m\u001b[0m\u001b[0m\n\u001b[0;32m----> 5\u001b[0;31m \u001b[0mdf\u001b[0m\u001b[0;34m.\u001b[0m\u001b[0mdescribe\u001b[0m\u001b[0;34m(\u001b[0m\u001b[0;34m)\u001b[0m\u001b[0;34m\u001b[0m\u001b[0m\n\u001b[0m\u001b[1;32m      6\u001b[0m \u001b[0;34m\u001b[0m\u001b[0m\n\u001b[1;32m      7\u001b[0m \u001b[0;31m# Returns the mean of all columns\u001b[0m\u001b[0;34m\u001b[0m\u001b[0;34m\u001b[0m\u001b[0m\n",
      "\u001b[0;31mNameError\u001b[0m: name 'df' is not defined"
     ]
    }
   ],
   "source": [
    "# Statistics\n",
    "# These can all be applied to a series as well\n",
    "\n",
    "# Summary statistics for numerical columns\n",
    "df.describe()\n",
    "\n",
    "# Returns the mean of all columns\n",
    "df.mean()\n",
    "\n",
    "# Returns the correlation between columns in a DataFrame\n",
    "df.corr()\n",
    "\n",
    "# Returns the number of non-null values in each DataFrame columns\n",
    "df.count()\n",
    "\n",
    "# Rethr tbe highest value in each column\n",
    "df.max()\n",
    "\n",
    "# Returns the lowest value in each columns\n",
    "df.min()\n",
    "\n",
    "# Return the median of each column\n",
    "df.median()\n",
    "\n",
    "# Returns the standard deviation of each column\n",
    "df.std()"
   ]
  },
  {
   "cell_type": "code",
   "execution_count": null,
   "metadata": {},
   "outputs": [],
   "source": []
  }
 ],
 "metadata": {
  "kernelspec": {
   "display_name": "Python 3",
   "language": "python",
   "name": "python3"
  },
  "language_info": {
   "codemirror_mode": {
    "name": "ipython",
    "version": 3
   },
   "file_extension": ".py",
   "mimetype": "text/x-python",
   "name": "python",
   "nbconvert_exporter": "python",
   "pygments_lexer": "ipython3",
   "version": "3.6.5"
  }
 },
 "nbformat": 4,
 "nbformat_minor": 2
}
